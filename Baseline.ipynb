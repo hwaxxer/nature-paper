{
 "cells": [
  {
   "cell_type": "code",
   "execution_count": 1,
   "metadata": {},
   "outputs": [],
   "source": [
    "import numpy as np\n",
    "import tensorflow as tf\n",
    "from tensorflow.keras.layers import Dense\n",
    "from tensorflow.keras import Model\n",
    "import matplotlib.pyplot as plt\n",
    "%matplotlib inline"
   ]
  },
  {
   "cell_type": "code",
   "execution_count": 2,
   "metadata": {},
   "outputs": [],
   "source": [
    "with open('data/batch3.pkl', 'rb') as f:\n",
    "    data = np.load(f)"
   ]
  },
  {
   "cell_type": "code",
   "execution_count": 3,
   "metadata": {},
   "outputs": [
    {
     "data": {
      "image/png": "[encoded data removed]",
      "text/plain": [
       "<Figure size 432x288 with 1 Axes>"
      ]
     },
     "metadata": {
      "needs_background": "light"
     },
     "output_type": "display_data"
    }
   ],
   "source": [
    "plt.plot(data['b3c43']['summary']['cycle'], data['b3c43']['summary']['QD'])\n",
    "plt.show()"
   ]
  },
  {
   "cell_type": "code",
   "execution_count": 4,
   "metadata": {},
   "outputs": [
    {
     "name": "stdout",
     "output_type": "stream",
     "text": [
      "Cell count:  46\n",
      "Cell names:  dict_keys(['b3c0', 'b3c1', 'b3c2', 'b3c3', 'b3c4', 'b3c5', 'b3c6', 'b3c7', 'b3c8', 'b3c9', 'b3c10', 'b3c11', 'b3c12', 'b3c13', 'b3c14', 'b3c15', 'b3c16', 'b3c17', 'b3c18', 'b3c19', 'b3c20', 'b3c21', 'b3c22', 'b3c23', 'b3c24', 'b3c25', 'b3c26', 'b3c27', 'b3c28', 'b3c29', 'b3c30', 'b3c31', 'b3c32', 'b3c33', 'b3c34', 'b3c35', 'b3c36', 'b3c37', 'b3c38', 'b3c39', 'b3c40', 'b3c41', 'b3c42', 'b3c43', 'b3c44', 'b3c45'])\n"
     ]
    }
   ],
   "source": [
    "print('Cell count: ', len(data))\n",
    "print('Cell names: ', data.keys())"
   ]
  },
  {
   "cell_type": "code",
   "execution_count": 5,
   "metadata": {},
   "outputs": [],
   "source": [
    "key = next(iter(data.keys()))\n",
    "cell = data[key]"
   ]
  },
  {
   "cell_type": "code",
   "execution_count": 6,
   "metadata": {},
   "outputs": [
    {
     "name": "stdout",
     "output_type": "stream",
     "text": [
      "keys: dict_keys(['IR', 'QC', 'QD', 'Tavg', 'Tmin', 'Tmax', 'chargetime', 'cycle'])\n",
      "cycle:  1008\n"
     ]
    }
   ],
   "source": [
    "summary = data[key]['summary']\n",
    "summary_keys = summary.keys()\n",
    "print('keys:', summary_keys)\n",
    "print('cycle: ', len(summary['QD']))"
   ]
  },
  {
   "cell_type": "code",
   "execution_count": 7,
   "metadata": {},
   "outputs": [
    {
     "name": "stdout",
     "output_type": "stream",
     "text": [
      "dict_keys(['I', 'Qc', 'Qd', 'Qdlin', 'T', 'Tdlin', 'V', 'dQdV', 't'])\n"
     ]
    }
   ],
   "source": [
    "print(cell['cycles']['0'].keys())"
   ]
  },
  {
   "cell_type": "code",
   "execution_count": 8,
   "metadata": {},
   "outputs": [
    {
     "name": "stdout",
     "output_type": "stream",
     "text": [
      "len of inp:  6300\n",
      "data:  [array([ 0.32977711,  0.61317097,  0.84046451, ..., 41.329215  ,\n",
      "       41.41285167, 41.49646   ])\n",
      " 922]\n"
     ]
    }
   ],
   "source": [
    "def get_dataset(d, n_cycles, n_inputs):\n",
    "    data = None\n",
    "    \n",
    "    for name, cell in d.items():\n",
    "        for i in range(n_cycles):\n",
    "            cycle = cell['cycles'][str(i)]\n",
    "            features = []\n",
    "            for key in cycle.keys():\n",
    "                features.append(cycle[key][:n_inputs])\n",
    "            x = np.array(features).flatten()\n",
    "            y = len(cell['summary']['cycle'])\n",
    "            xy = np.array([x, y])\n",
    "            if data is None:\n",
    "                data = xy\n",
    "            else:\n",
    "                data = np.vstack([data, xy])\n",
    "    return data\n",
    "\n",
    "# How many cycles to look at?\n",
    "n_cycles = 10\n",
    "# How many events per cycle?\n",
    "n_inputs = 700\n",
    "dataset = get_dataset(data, n_cycles, n_inputs)\n",
    "\n",
    "split = int(0.8 * len(dataset))\n",
    "data_train = dataset[:split]\n",
    "data_val = dataset[split:]\n",
    "print('len of inp: ', len(data_val[0,0]))\n",
    "print('data: ', data_val[0])"
   ]
  },
  {
   "cell_type": "code",
   "execution_count": 9,
   "metadata": {},
   "outputs": [],
   "source": [
    "'''\n",
    "Just a simple linear MLP.\n",
    "'''\n",
    "class BaselineModel(Model):\n",
    "    def __init__(self, n_inputs, n_layers=5, n_neurons=256):\n",
    "        super(BaselineModel, self).__init__()\n",
    "        \n",
    "        layers = []\n",
    "        layers.append(Dense(n_neurons, activation='relu', input_shape=[n_inputs]))\n",
    "        for _ in range(n_layers-1):\n",
    "            layers.append(Dense(n_neurons, activation='relu'))\n",
    "        self.hidden_layers = layers\n",
    "        self.out = Dense(1)\n",
    "\n",
    "    def call(self, x):\n",
    "        for layer in self.hidden_layers:\n",
    "            x = layer(x)\n",
    "        return self.out(x)\n",
    "\n",
    "model = BaselineModel(n_inputs)"
   ]
  },
  {
   "cell_type": "code",
   "execution_count": 10,
   "metadata": {},
   "outputs": [],
   "source": [
    "loss_fn = tf.keras.losses.MeanSquaredError()\n",
    "optimizer = tf.keras.optimizers.Adam(learning_rate=1e-4)\n",
    "\n",
    "train_loss = tf.keras.metrics.Mean(name='train_loss')\n",
    "train_mse = tf.keras.metrics.MeanSquaredError(name='train_mse')\n",
    "\n",
    "test_loss = tf.keras.metrics.Mean(name='test_loss')\n",
    "test_mse = tf.keras.metrics.MeanSquaredError(name='test_mse')"
   ]
  },
  {
   "cell_type": "code",
   "execution_count": 11,
   "metadata": {},
   "outputs": [],
   "source": [
    "@tf.function\n",
    "def train_step(x, y):\n",
    "    with tf.GradientTape() as tape:\n",
    "        predictions = model(x)\n",
    "        loss = loss_fn(y, predictions)\n",
    "                \n",
    "    gradients = tape.gradient(loss, model.trainable_variables)\n",
    "    optimizer.apply_gradients(zip(gradients, model.trainable_variables))\n",
    "  \n",
    "    train_loss(loss)\n",
    "    train_mse(y, predictions)"
   ]
  },
  {
   "cell_type": "code",
   "execution_count": 12,
   "metadata": {},
   "outputs": [],
   "source": [
    "@tf.function\n",
    "def test_step(x, y):\n",
    "    predictions = model(x)\n",
    "    loss = loss_fn(y, predictions)\n",
    "  \n",
    "    test_loss(loss)\n",
    "    test_mse(y, predictions)"
   ]
  },
  {
   "cell_type": "code",
   "execution_count": null,
   "metadata": {},
   "outputs": [],
   "source": [
    "# will be slow unless you're on a GPU :'(\n",
    "EPOCHS = 100\n",
    "\n",
    "train_rmses = []\n",
    "test_rmses = []\n",
    "for epoch in range(EPOCHS):\n",
    "    \n",
    "    for x, y in data_train:\n",
    "        train_step(np.array([x]), np.array([y]))\n",
    "\n",
    "    for x, y in data_val:\n",
    "        test_step(np.array([x]), np.array([y]))\n",
    "        \n",
    "    train_rmses.append(np.sqrt(train_mse.result()))\n",
    "    test_rmses.append(np.sqrt(test_mse.result()))\n",
    "    \n",
    "    template = 'Epoch {}, Loss: {}, RMSE: {}, Test Loss: {}, Test RMSE: {}'\n",
    "    print(template.format(epoch+1,\n",
    "                         train_loss.result(), \n",
    "                         train_rmses[-1],\n",
    "                         test_loss.result(), \n",
    "                         test_rmses[-1]))"
   ]
  },
  {
   "cell_type": "code",
   "execution_count": 14,
   "metadata": {},
   "outputs": [
    {
     "data": {
      "image/png": "[encoded data removed]",
      "text/plain": [
       "<Figure size 1152x720 with 1 Axes>"
      ]
     },
     "metadata": {
      "needs_background": "light"
     },
     "output_type": "display_data"
    }
   ],
   "source": [
    "plt.figure(figsize=(16,10))\n",
    "plt.plot(train_rmses, label='RMSE (train)')\n",
    "plt.plot(test_rmses, label='RMSE (test)')\n",
    "plt.legend()\n",
    "plt.show()"
   ]
  },
  {
   "cell_type": "code",
   "execution_count": null,
   "metadata": {},
   "outputs": [],
   "source": []
  }
 ],
 "metadata": {
  "kernelspec": {
   "display_name": "Python 3",
   "language": "python",
   "name": "python3"
  },
  "language_info": {
   "codemirror_mode": {
    "name": "ipython",
    "version": 3
   },
   "file_extension": ".py",
   "mimetype": "text/x-python",
   "name": "python",
   "nbconvert_exporter": "python",
   "pygments_lexer": "ipython3",
   "version": "3.7.3"
  }
 },
 "nbformat": 4,
 "nbformat_minor": 2
}
